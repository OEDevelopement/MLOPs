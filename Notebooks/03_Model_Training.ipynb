{
 "cells": [
  {
   "cell_type": "code",
   "execution_count": 14,
   "metadata": {},
   "outputs": [],
   "source": [
    "import pandas as pd\n",
    "import itertools\n",
    "import random\n",
    "import mlflow\n",
    "import mlflow.sklearn\n",
    "from mlflow import MlflowClient\n",
    "from sklearn.pipeline import Pipeline\n",
    "from sklearn.compose import ColumnTransformer\n",
    "from sklearn.preprocessing import StandardScaler, OneHotEncoder\n",
    "from sklearn.ensemble import RandomForestClassifier, GradientBoostingClassifier\n",
    "from sklearn.linear_model import LogisticRegression\n",
    "from sklearn.model_selection import train_test_split\n",
    "from sklearn.metrics import accuracy_score"
   ]
  },
  {
   "cell_type": "code",
   "execution_count": 15,
   "metadata": {},
   "outputs": [
    {
     "name": "stderr",
     "output_type": "stream",
     "text": [
      "2025/03/06 10:00:11 INFO mlflow.tracking.fluent: Experiment with name 'income_prediction' does not exist. Creating a new experiment.\n"
     ]
    },
    {
     "name": "stdout",
     "output_type": "stream",
     "text": [
      "Experiment Name: income_prediction\n",
      "Experiment ID: 277431885630747115\n"
     ]
    }
   ],
   "source": [
    "mlflow.set_tracking_uri(\"file:./mlruns\")\n",
    "\n",
    "# MLflow Experiment erstellen\n",
    "experiment_name = \"income_prediction\"\n",
    "experiment = mlflow.set_experiment(experiment_name)\n",
    "\n",
    "# Experiment-Details ausgeben\n",
    "print(f\"Experiment Name: {experiment_name}\")\n",
    "print(f\"Experiment ID: {experiment.experiment_id}\")"
   ]
  },
  {
   "cell_type": "code",
   "execution_count": 16,
   "metadata": {},
   "outputs": [],
   "source": [
    "# Needs to be moved to /mlflow/data/processed/\n",
    "data = pd.read_csv('../mlflow/data/processed/processed_data.csv')"
   ]
  },
  {
   "cell_type": "code",
   "execution_count": 18,
   "metadata": {},
   "outputs": [],
   "source": [
    "X = data.drop(columns=['income >50K'])\n",
    "y = data['income >50K']"
   ]
  },
  {
   "cell_type": "code",
   "execution_count": 19,
   "metadata": {},
   "outputs": [],
   "source": [
    "# Numerische und kategoriale Spalten identifizieren\n",
    "num_features = ['age', 'educational-num', 'hours-per-week']\n",
    "cat_features = ['workclass', 'marital-status', 'occupation', 'relationship']\n",
    "\n",
    "# Transformationen für numerische Spalten (Skalierung)\n",
    "num_transformer = StandardScaler()\n",
    "\n",
    "# Transformationen für kategoriale Spalten (One-Hot-Encoding)\n",
    "cat_transformer = OneHotEncoder(handle_unknown='ignore')\n",
    "\n",
    "# Preprocessing-Pipeline\n",
    "preprocessor = ColumnTransformer([\n",
    "    ('num', num_transformer, num_features),\n",
    "    ('cat', cat_transformer, cat_features)\n",
    "])\n"
   ]
  },
  {
   "cell_type": "code",
   "execution_count": 20,
   "metadata": {},
   "outputs": [],
   "source": [
    "# **Hyperparameter-Sets definieren**\n",
    "param_grid_rf = {\n",
    "    \"n_estimators\": [100, 200],  \n",
    "    \"max_depth\": [5, 10],        \n",
    "    \"min_samples_split\": [2, 5], \n",
    "    \"min_samples_leaf\": [1, 3]   \n",
    "}\n",
    "\n",
    "param_combinations_rf = list(itertools.product(*param_grid_rf.values()))\n",
    "\n",
    "param_grid_lr = {\n",
    "    \"penalty\": [\"l1\", \"l2\", \"elasticnet\", None],  \n",
    "    \"C\": [0.01, 0.1, 1, 10, 100],  \n",
    "    \"solver\": [\"liblinear\", \"lbfgs\", \"saga\"],  \n",
    "    \"max_iter\": [100, 200, 500]  \n",
    "}\n",
    "\n",
    "param_combinations_lr = list(itertools.product(*param_grid_lr.values()))\n",
    "\n",
    "param_grid_gb = {\n",
    "    \"n_estimators\": [100, 200],  \n",
    "    \"learning_rate\": [0.01, 0.1, 0.2],  \n",
    "    \"max_depth\": [3, 5, 10],  \n",
    "    \"min_samples_split\": [2, 5],  \n",
    "    \"min_samples_leaf\": [1, 3]  \n",
    "}\n",
    "\n",
    "param_combinations_gb = list(itertools.product(*param_grid_gb.values()))\n",
    "\n",
    "\n",
    "def is_valid_lr_params(params):\n",
    "    \"\"\"Überprüft, ob die Hyperparameter für LogisticRegression gültig sind.\"\"\"\n",
    "    penalty, C, solver, max_iter = params\n",
    "\n",
    "    solver_penalty_map = {\n",
    "        \"lbfgs\": [\"l2\", None],\n",
    "        \"liblinear\": [\"l1\", \"l2\"],\n",
    "        \"saga\": [\"l1\", \"l2\", \"elasticnet\", None]\n",
    "    }\n",
    "\n",
    "    # Prüfen, ob der Solver den Penalty-Typ unterstützt\n",
    "    if solver not in solver_penalty_map or penalty not in solver_penalty_map[solver]:\n",
    "        return False  \n",
    "\n",
    "    # Falls `penalty=\"elasticnet\"`, muss `l1_ratio` explizit definiert sein\n",
    "    if penalty == \"elasticnet\" and \"l1_ratio\" not in param_grid_lr:\n",
    "        return False  \n",
    "\n",
    "    return True\n",
    "\n",
    "\n",
    "\n",
    "# **Kompatible Kombinationen filtern**\n",
    "param_combinations_lr = [params for params in param_combinations_lr if is_valid_lr_params(params)]\n",
    "\n",
    "\n",
    "def select_diverse_combinations(param_combinations, max_combinations=20):\n",
    "    \"\"\"Wählt eine diverse Menge an Hyperparameter-Kombinationen aus.\"\"\"\n",
    "    if len(param_combinations) <= max_combinations:\n",
    "        return param_combinations  # Falls bereits <= 20, einfach zurückgeben\n",
    "    \n",
    "    # Zufällige Auswahl mit gleichmäßiger Verteilung\n",
    "    selected = set()\n",
    "    while len(selected) < max_combinations:\n",
    "        candidate = random.choice(param_combinations)\n",
    "        selected.add(candidate)  # Set verhindert doppelte Einträge\n",
    "    \n",
    "    return list(selected)\n",
    "\n",
    "\n",
    "# **Maximal 20 Kombinationen pro Modell**\n",
    "param_combinations_rf = select_diverse_combinations(param_combinations_rf, 20)\n",
    "param_combinations_lr = select_diverse_combinations(param_combinations_lr, 20)\n",
    "param_combinations_gb = select_diverse_combinations(param_combinations_gb, 20)"
   ]
  },
  {
   "cell_type": "code",
   "execution_count": 21,
   "metadata": {},
   "outputs": [
    {
     "data": {
      "text/plain": [
       "20"
      ]
     },
     "execution_count": 21,
     "metadata": {},
     "output_type": "execute_result"
    }
   ],
   "source": [
    "len(param_combinations_lr)"
   ]
  },
  {
   "cell_type": "code",
   "execution_count": 22,
   "metadata": {},
   "outputs": [],
   "source": [
    "X_train, X_test, y_train, y_test = train_test_split(X, y, test_size=0.2, random_state=42)\n",
    "\n",
    "# Modelle mit ihren Parametern durchlaufen\n",
    "model_configs = [\n",
    "    (\"random_forest\", RandomForestClassifier, param_combinations_rf, param_grid_rf),\n",
    "    (\"logistic_regression\", LogisticRegression, param_combinations_lr, param_grid_lr),\n",
    "    (\"gradient_boosting\", GradientBoostingClassifier, param_combinations_gb, param_grid_gb)\n",
    "]"
   ]
  },
  {
   "cell_type": "code",
   "execution_count": 23,
   "metadata": {},
   "outputs": [
    {
     "name": "stdout",
     "output_type": "stream",
     "text": [
      "Training random_forest mit Parametern: {'n_estimators': 100, 'max_depth': 5, 'min_samples_split': 2, 'min_samples_leaf': 1}\n"
     ]
    },
    {
     "name": "stderr",
     "output_type": "stream",
     "text": [
      "2025/03/06 10:00:17 WARNING mlflow.models.model: Model logged without a signature and input example. Please set `input_example` parameter when logging the model to auto infer the model signature.\n"
     ]
    },
    {
     "name": "stdout",
     "output_type": "stream",
     "text": [
      "Training random_forest mit Parametern: {'n_estimators': 100, 'max_depth': 5, 'min_samples_split': 2, 'min_samples_leaf': 3}\n"
     ]
    },
    {
     "name": "stderr",
     "output_type": "stream",
     "text": [
      "2025/03/06 10:00:22 WARNING mlflow.models.model: Model logged without a signature and input example. Please set `input_example` parameter when logging the model to auto infer the model signature.\n"
     ]
    },
    {
     "name": "stdout",
     "output_type": "stream",
     "text": [
      "Training random_forest mit Parametern: {'n_estimators': 100, 'max_depth': 5, 'min_samples_split': 5, 'min_samples_leaf': 1}\n"
     ]
    },
    {
     "name": "stderr",
     "output_type": "stream",
     "text": [
      "2025/03/06 10:00:27 WARNING mlflow.models.model: Model logged without a signature and input example. Please set `input_example` parameter when logging the model to auto infer the model signature.\n"
     ]
    },
    {
     "name": "stdout",
     "output_type": "stream",
     "text": [
      "Training random_forest mit Parametern: {'n_estimators': 100, 'max_depth': 5, 'min_samples_split': 5, 'min_samples_leaf': 3}\n"
     ]
    },
    {
     "name": "stderr",
     "output_type": "stream",
     "text": [
      "2025/03/06 10:00:31 WARNING mlflow.models.model: Model logged without a signature and input example. Please set `input_example` parameter when logging the model to auto infer the model signature.\n"
     ]
    },
    {
     "name": "stdout",
     "output_type": "stream",
     "text": [
      "Training random_forest mit Parametern: {'n_estimators': 100, 'max_depth': 10, 'min_samples_split': 2, 'min_samples_leaf': 1}\n"
     ]
    },
    {
     "name": "stderr",
     "output_type": "stream",
     "text": [
      "2025/03/06 10:00:35 WARNING mlflow.models.model: Model logged without a signature and input example. Please set `input_example` parameter when logging the model to auto infer the model signature.\n"
     ]
    },
    {
     "name": "stdout",
     "output_type": "stream",
     "text": [
      "Training random_forest mit Parametern: {'n_estimators': 100, 'max_depth': 10, 'min_samples_split': 2, 'min_samples_leaf': 3}\n"
     ]
    },
    {
     "name": "stderr",
     "output_type": "stream",
     "text": [
      "2025/03/06 10:00:40 WARNING mlflow.models.model: Model logged without a signature and input example. Please set `input_example` parameter when logging the model to auto infer the model signature.\n"
     ]
    },
    {
     "name": "stdout",
     "output_type": "stream",
     "text": [
      "Training random_forest mit Parametern: {'n_estimators': 100, 'max_depth': 10, 'min_samples_split': 5, 'min_samples_leaf': 1}\n"
     ]
    },
    {
     "name": "stderr",
     "output_type": "stream",
     "text": [
      "2025/03/06 10:00:45 WARNING mlflow.models.model: Model logged without a signature and input example. Please set `input_example` parameter when logging the model to auto infer the model signature.\n"
     ]
    },
    {
     "name": "stdout",
     "output_type": "stream",
     "text": [
      "Training random_forest mit Parametern: {'n_estimators': 100, 'max_depth': 10, 'min_samples_split': 5, 'min_samples_leaf': 3}\n"
     ]
    },
    {
     "name": "stderr",
     "output_type": "stream",
     "text": [
      "2025/03/06 10:00:49 WARNING mlflow.models.model: Model logged without a signature and input example. Please set `input_example` parameter when logging the model to auto infer the model signature.\n"
     ]
    },
    {
     "name": "stdout",
     "output_type": "stream",
     "text": [
      "Training random_forest mit Parametern: {'n_estimators': 200, 'max_depth': 5, 'min_samples_split': 2, 'min_samples_leaf': 1}\n"
     ]
    },
    {
     "name": "stderr",
     "output_type": "stream",
     "text": [
      "2025/03/06 10:00:54 WARNING mlflow.models.model: Model logged without a signature and input example. Please set `input_example` parameter when logging the model to auto infer the model signature.\n"
     ]
    },
    {
     "name": "stdout",
     "output_type": "stream",
     "text": [
      "Training random_forest mit Parametern: {'n_estimators': 200, 'max_depth': 5, 'min_samples_split': 2, 'min_samples_leaf': 3}\n"
     ]
    },
    {
     "name": "stderr",
     "output_type": "stream",
     "text": [
      "2025/03/06 10:00:59 WARNING mlflow.models.model: Model logged without a signature and input example. Please set `input_example` parameter when logging the model to auto infer the model signature.\n"
     ]
    },
    {
     "name": "stdout",
     "output_type": "stream",
     "text": [
      "Training random_forest mit Parametern: {'n_estimators': 200, 'max_depth': 5, 'min_samples_split': 5, 'min_samples_leaf': 1}\n"
     ]
    },
    {
     "name": "stderr",
     "output_type": "stream",
     "text": [
      "2025/03/06 10:01:04 WARNING mlflow.models.model: Model logged without a signature and input example. Please set `input_example` parameter when logging the model to auto infer the model signature.\n"
     ]
    },
    {
     "name": "stdout",
     "output_type": "stream",
     "text": [
      "Training random_forest mit Parametern: {'n_estimators': 200, 'max_depth': 5, 'min_samples_split': 5, 'min_samples_leaf': 3}\n"
     ]
    },
    {
     "name": "stderr",
     "output_type": "stream",
     "text": [
      "2025/03/06 10:01:09 WARNING mlflow.models.model: Model logged without a signature and input example. Please set `input_example` parameter when logging the model to auto infer the model signature.\n"
     ]
    },
    {
     "name": "stdout",
     "output_type": "stream",
     "text": [
      "Training random_forest mit Parametern: {'n_estimators': 200, 'max_depth': 10, 'min_samples_split': 2, 'min_samples_leaf': 1}\n"
     ]
    },
    {
     "name": "stderr",
     "output_type": "stream",
     "text": [
      "2025/03/06 10:01:15 WARNING mlflow.models.model: Model logged without a signature and input example. Please set `input_example` parameter when logging the model to auto infer the model signature.\n"
     ]
    },
    {
     "name": "stdout",
     "output_type": "stream",
     "text": [
      "Training random_forest mit Parametern: {'n_estimators': 200, 'max_depth': 10, 'min_samples_split': 2, 'min_samples_leaf': 3}\n"
     ]
    },
    {
     "name": "stderr",
     "output_type": "stream",
     "text": [
      "2025/03/06 10:01:20 WARNING mlflow.models.model: Model logged without a signature and input example. Please set `input_example` parameter when logging the model to auto infer the model signature.\n"
     ]
    },
    {
     "name": "stdout",
     "output_type": "stream",
     "text": [
      "Training random_forest mit Parametern: {'n_estimators': 200, 'max_depth': 10, 'min_samples_split': 5, 'min_samples_leaf': 1}\n"
     ]
    },
    {
     "name": "stderr",
     "output_type": "stream",
     "text": [
      "2025/03/06 10:01:27 WARNING mlflow.models.model: Model logged without a signature and input example. Please set `input_example` parameter when logging the model to auto infer the model signature.\n"
     ]
    },
    {
     "name": "stdout",
     "output_type": "stream",
     "text": [
      "Training random_forest mit Parametern: {'n_estimators': 200, 'max_depth': 10, 'min_samples_split': 5, 'min_samples_leaf': 3}\n"
     ]
    },
    {
     "name": "stderr",
     "output_type": "stream",
     "text": [
      "2025/03/06 10:01:33 WARNING mlflow.models.model: Model logged without a signature and input example. Please set `input_example` parameter when logging the model to auto infer the model signature.\n"
     ]
    },
    {
     "name": "stdout",
     "output_type": "stream",
     "text": [
      "Training logistic_regression mit Parametern: {'penalty': 'l2', 'C': 1, 'solver': 'liblinear', 'max_iter': 200}\n"
     ]
    },
    {
     "name": "stderr",
     "output_type": "stream",
     "text": [
      "2025/03/06 10:01:36 WARNING mlflow.models.model: Model logged without a signature and input example. Please set `input_example` parameter when logging the model to auto infer the model signature.\n",
      "c:\\Users\\z003u0tx\\Documents\\UNI_FHSWF\\MLOPS\\MLOPs\\.venv\\Lib\\site-packages\\sklearn\\linear_model\\_logistic.py:1207: UserWarning: Setting penalty=None will ignore the C and l1_ratio parameters\n",
      "  warnings.warn(\n"
     ]
    },
    {
     "name": "stdout",
     "output_type": "stream",
     "text": [
      "Training logistic_regression mit Parametern: {'penalty': None, 'C': 0.1, 'solver': 'lbfgs', 'max_iter': 100}\n"
     ]
    },
    {
     "name": "stderr",
     "output_type": "stream",
     "text": [
      "2025/03/06 10:01:40 WARNING mlflow.models.model: Model logged without a signature and input example. Please set `input_example` parameter when logging the model to auto infer the model signature.\n",
      "c:\\Users\\z003u0tx\\Documents\\UNI_FHSWF\\MLOPS\\MLOPs\\.venv\\Lib\\site-packages\\sklearn\\linear_model\\_logistic.py:1207: UserWarning: Setting penalty=None will ignore the C and l1_ratio parameters\n",
      "  warnings.warn(\n"
     ]
    },
    {
     "name": "stdout",
     "output_type": "stream",
     "text": [
      "Training logistic_regression mit Parametern: {'penalty': None, 'C': 100, 'solver': 'saga', 'max_iter': 200}\n"
     ]
    },
    {
     "name": "stderr",
     "output_type": "stream",
     "text": [
      "2025/03/06 10:01:44 WARNING mlflow.models.model: Model logged without a signature and input example. Please set `input_example` parameter when logging the model to auto infer the model signature.\n"
     ]
    },
    {
     "name": "stdout",
     "output_type": "stream",
     "text": [
      "Training logistic_regression mit Parametern: {'penalty': 'l2', 'C': 100, 'solver': 'liblinear', 'max_iter': 200}\n"
     ]
    },
    {
     "name": "stderr",
     "output_type": "stream",
     "text": [
      "2025/03/06 10:01:48 WARNING mlflow.models.model: Model logged without a signature and input example. Please set `input_example` parameter when logging the model to auto infer the model signature.\n",
      "c:\\Users\\z003u0tx\\Documents\\UNI_FHSWF\\MLOPS\\MLOPs\\.venv\\Lib\\site-packages\\sklearn\\linear_model\\_logistic.py:1207: UserWarning: Setting penalty=None will ignore the C and l1_ratio parameters\n",
      "  warnings.warn(\n"
     ]
    },
    {
     "name": "stdout",
     "output_type": "stream",
     "text": [
      "Training logistic_regression mit Parametern: {'penalty': None, 'C': 0.1, 'solver': 'saga', 'max_iter': 200}\n"
     ]
    },
    {
     "name": "stderr",
     "output_type": "stream",
     "text": [
      "2025/03/06 10:01:52 WARNING mlflow.models.model: Model logged without a signature and input example. Please set `input_example` parameter when logging the model to auto infer the model signature.\n",
      "c:\\Users\\z003u0tx\\Documents\\UNI_FHSWF\\MLOPS\\MLOPs\\.venv\\Lib\\site-packages\\sklearn\\linear_model\\_logistic.py:1207: UserWarning: Setting penalty=None will ignore the C and l1_ratio parameters\n",
      "  warnings.warn(\n"
     ]
    },
    {
     "name": "stdout",
     "output_type": "stream",
     "text": [
      "Training logistic_regression mit Parametern: {'penalty': None, 'C': 0.01, 'solver': 'lbfgs', 'max_iter': 100}\n"
     ]
    },
    {
     "name": "stderr",
     "output_type": "stream",
     "text": [
      "2025/03/06 10:01:56 WARNING mlflow.models.model: Model logged without a signature and input example. Please set `input_example` parameter when logging the model to auto infer the model signature.\n"
     ]
    },
    {
     "name": "stdout",
     "output_type": "stream",
     "text": [
      "Training logistic_regression mit Parametern: {'penalty': 'l1', 'C': 0.01, 'solver': 'saga', 'max_iter': 200}\n"
     ]
    },
    {
     "name": "stderr",
     "output_type": "stream",
     "text": [
      "2025/03/06 10:01:59 WARNING mlflow.models.model: Model logged without a signature and input example. Please set `input_example` parameter when logging the model to auto infer the model signature.\n",
      "c:\\Users\\z003u0tx\\Documents\\UNI_FHSWF\\MLOPS\\MLOPs\\.venv\\Lib\\site-packages\\sklearn\\linear_model\\_logistic.py:1207: UserWarning: Setting penalty=None will ignore the C and l1_ratio parameters\n",
      "  warnings.warn(\n"
     ]
    },
    {
     "name": "stdout",
     "output_type": "stream",
     "text": [
      "Training logistic_regression mit Parametern: {'penalty': None, 'C': 100, 'solver': 'lbfgs', 'max_iter': 500}\n"
     ]
    },
    {
     "name": "stderr",
     "output_type": "stream",
     "text": [
      "2025/03/06 10:02:03 WARNING mlflow.models.model: Model logged without a signature and input example. Please set `input_example` parameter when logging the model to auto infer the model signature.\n"
     ]
    },
    {
     "name": "stdout",
     "output_type": "stream",
     "text": [
      "Training logistic_regression mit Parametern: {'penalty': 'l2', 'C': 1, 'solver': 'lbfgs', 'max_iter': 500}\n"
     ]
    },
    {
     "name": "stderr",
     "output_type": "stream",
     "text": [
      "2025/03/06 10:02:06 WARNING mlflow.models.model: Model logged without a signature and input example. Please set `input_example` parameter when logging the model to auto infer the model signature.\n",
      "c:\\Users\\z003u0tx\\Documents\\UNI_FHSWF\\MLOPS\\MLOPs\\.venv\\Lib\\site-packages\\sklearn\\linear_model\\_logistic.py:1207: UserWarning: Setting penalty=None will ignore the C and l1_ratio parameters\n",
      "  warnings.warn(\n"
     ]
    },
    {
     "name": "stdout",
     "output_type": "stream",
     "text": [
      "Training logistic_regression mit Parametern: {'penalty': None, 'C': 0.01, 'solver': 'saga', 'max_iter': 200}\n"
     ]
    },
    {
     "name": "stderr",
     "output_type": "stream",
     "text": [
      "2025/03/06 10:02:10 WARNING mlflow.models.model: Model logged without a signature and input example. Please set `input_example` parameter when logging the model to auto infer the model signature.\n"
     ]
    },
    {
     "name": "stdout",
     "output_type": "stream",
     "text": [
      "Training logistic_regression mit Parametern: {'penalty': 'l2', 'C': 0.01, 'solver': 'saga', 'max_iter': 200}\n"
     ]
    },
    {
     "name": "stderr",
     "output_type": "stream",
     "text": [
      "2025/03/06 10:02:14 WARNING mlflow.models.model: Model logged without a signature and input example. Please set `input_example` parameter when logging the model to auto infer the model signature.\n"
     ]
    },
    {
     "name": "stdout",
     "output_type": "stream",
     "text": [
      "Training logistic_regression mit Parametern: {'penalty': 'l2', 'C': 1, 'solver': 'liblinear', 'max_iter': 500}\n"
     ]
    },
    {
     "name": "stderr",
     "output_type": "stream",
     "text": [
      "2025/03/06 10:02:18 WARNING mlflow.models.model: Model logged without a signature and input example. Please set `input_example` parameter when logging the model to auto infer the model signature.\n"
     ]
    },
    {
     "name": "stdout",
     "output_type": "stream",
     "text": [
      "Training logistic_regression mit Parametern: {'penalty': 'l2', 'C': 0.1, 'solver': 'lbfgs', 'max_iter': 100}\n"
     ]
    },
    {
     "name": "stderr",
     "output_type": "stream",
     "text": [
      "2025/03/06 10:02:21 WARNING mlflow.models.model: Model logged without a signature and input example. Please set `input_example` parameter when logging the model to auto infer the model signature.\n"
     ]
    },
    {
     "name": "stdout",
     "output_type": "stream",
     "text": [
      "Training logistic_regression mit Parametern: {'penalty': 'l1', 'C': 0.1, 'solver': 'liblinear', 'max_iter': 200}\n"
     ]
    },
    {
     "name": "stderr",
     "output_type": "stream",
     "text": [
      "2025/03/06 10:02:25 WARNING mlflow.models.model: Model logged without a signature and input example. Please set `input_example` parameter when logging the model to auto infer the model signature.\n"
     ]
    },
    {
     "name": "stdout",
     "output_type": "stream",
     "text": [
      "Training logistic_regression mit Parametern: {'penalty': 'l2', 'C': 0.1, 'solver': 'liblinear', 'max_iter': 500}\n"
     ]
    },
    {
     "name": "stderr",
     "output_type": "stream",
     "text": [
      "2025/03/06 10:02:28 WARNING mlflow.models.model: Model logged without a signature and input example. Please set `input_example` parameter when logging the model to auto infer the model signature.\n",
      "c:\\Users\\z003u0tx\\Documents\\UNI_FHSWF\\MLOPS\\MLOPs\\.venv\\Lib\\site-packages\\sklearn\\linear_model\\_logistic.py:1207: UserWarning: Setting penalty=None will ignore the C and l1_ratio parameters\n",
      "  warnings.warn(\n"
     ]
    },
    {
     "name": "stdout",
     "output_type": "stream",
     "text": [
      "Training logistic_regression mit Parametern: {'penalty': None, 'C': 100, 'solver': 'saga', 'max_iter': 100}\n"
     ]
    },
    {
     "name": "stderr",
     "output_type": "stream",
     "text": [
      "c:\\Users\\z003u0tx\\Documents\\UNI_FHSWF\\MLOPS\\MLOPs\\.venv\\Lib\\site-packages\\sklearn\\linear_model\\_sag.py:348: ConvergenceWarning: The max_iter was reached which means the coef_ did not converge\n",
      "  warnings.warn(\n",
      "2025/03/06 10:02:33 WARNING mlflow.models.model: Model logged without a signature and input example. Please set `input_example` parameter when logging the model to auto infer the model signature.\n"
     ]
    },
    {
     "name": "stdout",
     "output_type": "stream",
     "text": [
      "Training logistic_regression mit Parametern: {'penalty': 'l2', 'C': 100, 'solver': 'liblinear', 'max_iter': 100}\n"
     ]
    },
    {
     "name": "stderr",
     "output_type": "stream",
     "text": [
      "2025/03/06 10:02:36 WARNING mlflow.models.model: Model logged without a signature and input example. Please set `input_example` parameter when logging the model to auto infer the model signature.\n"
     ]
    },
    {
     "name": "stdout",
     "output_type": "stream",
     "text": [
      "Training logistic_regression mit Parametern: {'penalty': 'l2', 'C': 0.1, 'solver': 'liblinear', 'max_iter': 100}\n"
     ]
    },
    {
     "name": "stderr",
     "output_type": "stream",
     "text": [
      "2025/03/06 10:02:40 WARNING mlflow.models.model: Model logged without a signature and input example. Please set `input_example` parameter when logging the model to auto infer the model signature.\n"
     ]
    },
    {
     "name": "stdout",
     "output_type": "stream",
     "text": [
      "Training logistic_regression mit Parametern: {'penalty': None, 'C': 1, 'solver': 'saga', 'max_iter': 100}\n"
     ]
    },
    {
     "name": "stderr",
     "output_type": "stream",
     "text": [
      "c:\\Users\\z003u0tx\\Documents\\UNI_FHSWF\\MLOPS\\MLOPs\\.venv\\Lib\\site-packages\\sklearn\\linear_model\\_sag.py:348: ConvergenceWarning: The max_iter was reached which means the coef_ did not converge\n",
      "  warnings.warn(\n",
      "2025/03/06 10:02:44 WARNING mlflow.models.model: Model logged without a signature and input example. Please set `input_example` parameter when logging the model to auto infer the model signature.\n"
     ]
    },
    {
     "name": "stdout",
     "output_type": "stream",
     "text": [
      "Training logistic_regression mit Parametern: {'penalty': 'l1', 'C': 0.01, 'solver': 'liblinear', 'max_iter': 500}\n"
     ]
    },
    {
     "name": "stderr",
     "output_type": "stream",
     "text": [
      "2025/03/06 10:02:48 WARNING mlflow.models.model: Model logged without a signature and input example. Please set `input_example` parameter when logging the model to auto infer the model signature.\n"
     ]
    },
    {
     "name": "stdout",
     "output_type": "stream",
     "text": [
      "Training gradient_boosting mit Parametern: {'n_estimators': 200, 'learning_rate': 0.2, 'max_depth': 5, 'min_samples_split': 2, 'min_samples_leaf': 3}\n"
     ]
    },
    {
     "name": "stderr",
     "output_type": "stream",
     "text": [
      "2025/03/06 10:02:58 WARNING mlflow.models.model: Model logged without a signature and input example. Please set `input_example` parameter when logging the model to auto infer the model signature.\n"
     ]
    },
    {
     "name": "stdout",
     "output_type": "stream",
     "text": [
      "Training gradient_boosting mit Parametern: {'n_estimators': 100, 'learning_rate': 0.1, 'max_depth': 3, 'min_samples_split': 2, 'min_samples_leaf': 3}\n"
     ]
    },
    {
     "name": "stderr",
     "output_type": "stream",
     "text": [
      "2025/03/06 10:03:03 WARNING mlflow.models.model: Model logged without a signature and input example. Please set `input_example` parameter when logging the model to auto infer the model signature.\n"
     ]
    },
    {
     "name": "stdout",
     "output_type": "stream",
     "text": [
      "Training gradient_boosting mit Parametern: {'n_estimators': 100, 'learning_rate': 0.2, 'max_depth': 10, 'min_samples_split': 5, 'min_samples_leaf': 1}\n"
     ]
    },
    {
     "name": "stderr",
     "output_type": "stream",
     "text": [
      "2025/03/06 10:03:15 WARNING mlflow.models.model: Model logged without a signature and input example. Please set `input_example` parameter when logging the model to auto infer the model signature.\n"
     ]
    },
    {
     "name": "stdout",
     "output_type": "stream",
     "text": [
      "Training gradient_boosting mit Parametern: {'n_estimators': 200, 'learning_rate': 0.01, 'max_depth': 10, 'min_samples_split': 2, 'min_samples_leaf': 3}\n"
     ]
    },
    {
     "name": "stderr",
     "output_type": "stream",
     "text": [
      "2025/03/06 10:03:34 WARNING mlflow.models.model: Model logged without a signature and input example. Please set `input_example` parameter when logging the model to auto infer the model signature.\n"
     ]
    },
    {
     "name": "stdout",
     "output_type": "stream",
     "text": [
      "Training gradient_boosting mit Parametern: {'n_estimators': 100, 'learning_rate': 0.01, 'max_depth': 10, 'min_samples_split': 2, 'min_samples_leaf': 3}\n"
     ]
    },
    {
     "name": "stderr",
     "output_type": "stream",
     "text": [
      "2025/03/06 10:03:46 WARNING mlflow.models.model: Model logged without a signature and input example. Please set `input_example` parameter when logging the model to auto infer the model signature.\n"
     ]
    },
    {
     "name": "stdout",
     "output_type": "stream",
     "text": [
      "Training gradient_boosting mit Parametern: {'n_estimators': 100, 'learning_rate': 0.2, 'max_depth': 3, 'min_samples_split': 5, 'min_samples_leaf': 3}\n"
     ]
    },
    {
     "name": "stderr",
     "output_type": "stream",
     "text": [
      "2025/03/06 10:03:52 WARNING mlflow.models.model: Model logged without a signature and input example. Please set `input_example` parameter when logging the model to auto infer the model signature.\n"
     ]
    },
    {
     "name": "stdout",
     "output_type": "stream",
     "text": [
      "Training gradient_boosting mit Parametern: {'n_estimators': 200, 'learning_rate': 0.2, 'max_depth': 5, 'min_samples_split': 5, 'min_samples_leaf': 1}\n"
     ]
    },
    {
     "name": "stderr",
     "output_type": "stream",
     "text": [
      "2025/03/06 10:04:03 WARNING mlflow.models.model: Model logged without a signature and input example. Please set `input_example` parameter when logging the model to auto infer the model signature.\n"
     ]
    },
    {
     "name": "stdout",
     "output_type": "stream",
     "text": [
      "Training gradient_boosting mit Parametern: {'n_estimators': 200, 'learning_rate': 0.1, 'max_depth': 10, 'min_samples_split': 2, 'min_samples_leaf': 1}\n"
     ]
    },
    {
     "name": "stderr",
     "output_type": "stream",
     "text": [
      "2025/03/06 10:04:25 WARNING mlflow.models.model: Model logged without a signature and input example. Please set `input_example` parameter when logging the model to auto infer the model signature.\n"
     ]
    },
    {
     "name": "stdout",
     "output_type": "stream",
     "text": [
      "Training gradient_boosting mit Parametern: {'n_estimators': 200, 'learning_rate': 0.01, 'max_depth': 5, 'min_samples_split': 2, 'min_samples_leaf': 3}\n"
     ]
    },
    {
     "name": "stderr",
     "output_type": "stream",
     "text": [
      "2025/03/06 10:04:36 WARNING mlflow.models.model: Model logged without a signature and input example. Please set `input_example` parameter when logging the model to auto infer the model signature.\n"
     ]
    },
    {
     "name": "stdout",
     "output_type": "stream",
     "text": [
      "Training gradient_boosting mit Parametern: {'n_estimators': 100, 'learning_rate': 0.2, 'max_depth': 10, 'min_samples_split': 2, 'min_samples_leaf': 1}\n"
     ]
    },
    {
     "name": "stderr",
     "output_type": "stream",
     "text": [
      "2025/03/06 10:04:49 WARNING mlflow.models.model: Model logged without a signature and input example. Please set `input_example` parameter when logging the model to auto infer the model signature.\n"
     ]
    },
    {
     "name": "stdout",
     "output_type": "stream",
     "text": [
      "Training gradient_boosting mit Parametern: {'n_estimators': 200, 'learning_rate': 0.2, 'max_depth': 10, 'min_samples_split': 2, 'min_samples_leaf': 1}\n"
     ]
    },
    {
     "name": "stderr",
     "output_type": "stream",
     "text": [
      "2025/03/06 10:05:09 WARNING mlflow.models.model: Model logged without a signature and input example. Please set `input_example` parameter when logging the model to auto infer the model signature.\n"
     ]
    },
    {
     "name": "stdout",
     "output_type": "stream",
     "text": [
      "Training gradient_boosting mit Parametern: {'n_estimators': 100, 'learning_rate': 0.2, 'max_depth': 3, 'min_samples_split': 2, 'min_samples_leaf': 3}\n"
     ]
    },
    {
     "name": "stderr",
     "output_type": "stream",
     "text": [
      "2025/03/06 10:05:15 WARNING mlflow.models.model: Model logged without a signature and input example. Please set `input_example` parameter when logging the model to auto infer the model signature.\n"
     ]
    },
    {
     "name": "stdout",
     "output_type": "stream",
     "text": [
      "Training gradient_boosting mit Parametern: {'n_estimators': 100, 'learning_rate': 0.1, 'max_depth': 10, 'min_samples_split': 5, 'min_samples_leaf': 3}\n"
     ]
    },
    {
     "name": "stderr",
     "output_type": "stream",
     "text": [
      "2025/03/06 10:05:25 WARNING mlflow.models.model: Model logged without a signature and input example. Please set `input_example` parameter when logging the model to auto infer the model signature.\n"
     ]
    },
    {
     "name": "stdout",
     "output_type": "stream",
     "text": [
      "Training gradient_boosting mit Parametern: {'n_estimators': 200, 'learning_rate': 0.1, 'max_depth': 3, 'min_samples_split': 5, 'min_samples_leaf': 3}\n"
     ]
    },
    {
     "name": "stderr",
     "output_type": "stream",
     "text": [
      "2025/03/06 10:05:34 WARNING mlflow.models.model: Model logged without a signature and input example. Please set `input_example` parameter when logging the model to auto infer the model signature.\n"
     ]
    },
    {
     "name": "stdout",
     "output_type": "stream",
     "text": [
      "Training gradient_boosting mit Parametern: {'n_estimators': 200, 'learning_rate': 0.1, 'max_depth': 10, 'min_samples_split': 2, 'min_samples_leaf': 3}\n"
     ]
    },
    {
     "name": "stderr",
     "output_type": "stream",
     "text": [
      "2025/03/06 10:05:52 WARNING mlflow.models.model: Model logged without a signature and input example. Please set `input_example` parameter when logging the model to auto infer the model signature.\n"
     ]
    },
    {
     "name": "stdout",
     "output_type": "stream",
     "text": [
      "Training gradient_boosting mit Parametern: {'n_estimators': 100, 'learning_rate': 0.01, 'max_depth': 10, 'min_samples_split': 5, 'min_samples_leaf': 3}\n"
     ]
    },
    {
     "name": "stderr",
     "output_type": "stream",
     "text": [
      "2025/03/06 10:06:03 WARNING mlflow.models.model: Model logged without a signature and input example. Please set `input_example` parameter when logging the model to auto infer the model signature.\n"
     ]
    },
    {
     "name": "stdout",
     "output_type": "stream",
     "text": [
      "Training gradient_boosting mit Parametern: {'n_estimators': 200, 'learning_rate': 0.01, 'max_depth': 3, 'min_samples_split': 5, 'min_samples_leaf': 3}\n"
     ]
    },
    {
     "name": "stderr",
     "output_type": "stream",
     "text": [
      "2025/03/06 10:06:11 WARNING mlflow.models.model: Model logged without a signature and input example. Please set `input_example` parameter when logging the model to auto infer the model signature.\n"
     ]
    },
    {
     "name": "stdout",
     "output_type": "stream",
     "text": [
      "Training gradient_boosting mit Parametern: {'n_estimators': 100, 'learning_rate': 0.01, 'max_depth': 3, 'min_samples_split': 5, 'min_samples_leaf': 3}\n"
     ]
    },
    {
     "name": "stderr",
     "output_type": "stream",
     "text": [
      "2025/03/06 10:06:16 WARNING mlflow.models.model: Model logged without a signature and input example. Please set `input_example` parameter when logging the model to auto infer the model signature.\n"
     ]
    },
    {
     "name": "stdout",
     "output_type": "stream",
     "text": [
      "Training gradient_boosting mit Parametern: {'n_estimators': 200, 'learning_rate': 0.01, 'max_depth': 10, 'min_samples_split': 2, 'min_samples_leaf': 1}\n"
     ]
    },
    {
     "name": "stderr",
     "output_type": "stream",
     "text": [
      "2025/03/06 10:06:35 WARNING mlflow.models.model: Model logged without a signature and input example. Please set `input_example` parameter when logging the model to auto infer the model signature.\n"
     ]
    },
    {
     "name": "stdout",
     "output_type": "stream",
     "text": [
      "Training gradient_boosting mit Parametern: {'n_estimators': 100, 'learning_rate': 0.01, 'max_depth': 10, 'min_samples_split': 2, 'min_samples_leaf': 1}\n"
     ]
    },
    {
     "name": "stderr",
     "output_type": "stream",
     "text": [
      "2025/03/06 10:06:48 WARNING mlflow.models.model: Model logged without a signature and input example. Please set `input_example` parameter when logging the model to auto infer the model signature.\n"
     ]
    }
   ],
   "source": [
    "for model_type, model_class, param_combinations, param_grid in model_configs:\n",
    "    for params in param_combinations:\n",
    "        # Dictionary mit aktuellen Parametern\n",
    "        current_params = dict(zip(param_grid.keys(), params))\n",
    "\n",
    "        with mlflow.start_run():\n",
    "            print(f\"Training {model_type} mit Parametern: {current_params}\")\n",
    "\n",
    "            # Modell initialisieren\n",
    "            model = model_class(**current_params, random_state=42) if \"random_state\" in model_class().get_params() else model_class(**current_params)\n",
    "\n",
    "            # Pipeline mit Preprocessing und Modell\n",
    "            pipeline = Pipeline([\n",
    "                ('preprocessor', preprocessor),\n",
    "                ('classifier', model)\n",
    "            ])\n",
    "\n",
    "            # Modell trainieren\n",
    "            pipeline.fit(X_train, y_train)\n",
    "\n",
    "            # Vorhersagen & Accuracy berechnen\n",
    "            y_pred = pipeline.predict(X_test)\n",
    "            accuracy = accuracy_score(y_test, y_pred)\n",
    "\n",
    "            # Parameter & Modelltyp loggen\n",
    "            mlflow.log_params(current_params)\n",
    "            mlflow.log_param(\"model_type\", model_type)\n",
    "\n",
    "            # Metriken loggen\n",
    "            mlflow.log_metric(\"accuracy\", accuracy)\n",
    "\n",
    "            # Modell speichern\n",
    "            mlflow.sklearn.log_model(pipeline, f\"{model_type}_pipeline\")"
   ]
  },
  {
   "cell_type": "code",
   "execution_count": 24,
   "metadata": {},
   "outputs": [],
   "source": [
    "runs = mlflow.search_runs(experiment_ids=[experiment.experiment_id])\n",
    "best_run = runs.loc[runs[\"metrics.accuracy\"].idxmax()]\n",
    "\n",
    "model_type = best_run[\"params.model_type\"]"
   ]
  },
  {
   "cell_type": "code",
   "execution_count": 25,
   "metadata": {},
   "outputs": [
    {
     "name": "stdout",
     "output_type": "stream",
     "text": [
      "Bester Run: 404a9b1ebfd445e89390327f16266858\n",
      "Model Type: gradient_boosting\n",
      "Accuracy: 0.8391376451077943\n"
     ]
    }
   ],
   "source": [
    "print(f\"Bester Run: {best_run['run_id']}\")\n",
    "print(f\"Model Type: {best_run['params.model_type']}\")\n",
    "print(f\"Accuracy: {best_run['metrics.accuracy']}\")"
   ]
  },
  {
   "cell_type": "code",
   "execution_count": 26,
   "metadata": {},
   "outputs": [],
   "source": [
    "model_uri = f\"runs:/{best_run['run_id']}/{best_run['params.model_type']}_pipeline\""
   ]
  },
  {
   "cell_type": "code",
   "execution_count": null,
   "metadata": {},
   "outputs": [],
   "source": [
    "mlflow.sklearn.save_model(\n",
    "        sk_model=mlflow.sklearn.load_model(model_uri),\n",
    "        path=\"best_model\"\n",
    "    )"
   ]
  },
  {
   "cell_type": "markdown",
   "metadata": {},
   "source": [
    "### Model serven mit:\n",
    "\n",
    "mlflow models serve -m best_model --port 5000 --no-conda"
   ]
  },
  {
   "cell_type": "code",
   "execution_count": 39,
   "metadata": {},
   "outputs": [],
   "source": [
    "model = mlflow.pyfunc.load_model(model_uri)\n",
    "\n",
    "test_cases = [\n",
    "    {\n",
    "        \"age\": 28,\n",
    "        \"workclass\": \"Government\",\n",
    "        \"educational-num\": 12,\n",
    "        \"marital-status\": \"Married\",\n",
    "        \"occupation\": \"Public Safety\",\n",
    "        \"relationship\": \"Husband\",\n",
    "        \"hours-per-week\": 40,\n",
    "        \"is_Male\": 1,\n",
    "        \"is_White\": 1,\n",
    "        \"from_USA\": 1,\n",
    "        \"gained-capital\": 0\n",
    "    },\n",
    "    {\n",
    "        \"age\": 45,\n",
    "        \"workclass\": \"Private\",\n",
    "        \"educational-num\": 16,\n",
    "        \"marital-status\": \"Single\",\n",
    "        \"occupation\": \"Professional\",\n",
    "        \"relationship\": \"Not-in-family\",\n",
    "        \"hours-per-week\": 50,\n",
    "        \"is_Male\": 0,\n",
    "        \"is_White\": 1,\n",
    "        \"from_USA\": 1,\n",
    "        \"gained-capital\": 1\n",
    "    }]\n",
    "\n",
    "test_df = pd.DataFrame(test_cases)\n",
    "predictions = model.predict(test_df)\n"
   ]
  },
  {
   "cell_type": "code",
   "execution_count": 40,
   "metadata": {},
   "outputs": [
    {
     "data": {
      "text/plain": [
       "array([0, 1], dtype=int64)"
      ]
     },
     "execution_count": 40,
     "metadata": {},
     "output_type": "execute_result"
    }
   ],
   "source": [
    "predictions"
   ]
  }
 ],
 "metadata": {
  "kernelspec": {
   "display_name": ".venv",
   "language": "python",
   "name": "python3"
  },
  "language_info": {
   "codemirror_mode": {
    "name": "ipython",
    "version": 3
   },
   "file_extension": ".py",
   "mimetype": "text/x-python",
   "name": "python",
   "nbconvert_exporter": "python",
   "pygments_lexer": "ipython3",
   "version": "3.11.5"
  }
 },
 "nbformat": 4,
 "nbformat_minor": 2
}
