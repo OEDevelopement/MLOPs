{
 "cells": [
  {
   "cell_type": "markdown",
   "metadata": {},
   "source": [
    "# Setup\n",
    "\n",
    "- venv erstellen\n",
    "- venv aktivieren\n",
    "- pakete installieren"
   ]
  },
  {
   "cell_type": "markdown",
   "metadata": {},
   "source": [
    "python3.12 -m venv income-venv \\\n",
    "source income-venv/bin/activate"
   ]
  },
  {
   "cell_type": "markdown",
   "metadata": {},
   "source": [
    "!pip install ..."
   ]
  },
  {
   "cell_type": "code",
   "execution_count": null,
   "metadata": {},
   "outputs": [],
   "source": [
    "# Wenn Requirements.txt Datei gepflegt\n",
    "!pip install -r requirements.txt"
   ]
  },
  {
   "cell_type": "code",
   "execution_count": null,
   "metadata": {},
   "outputs": [],
   "source": [
    "# Wenn requirements.txt nicht gepflegt\n",
    "!pip install numpy pandas scikit-learn mlflow pytest fastapi great-expectations==1.3.0 matplotlib kaggle"
   ]
  },
  {
   "cell_type": "code",
   "execution_count": 2,
   "metadata": {},
   "outputs": [],
   "source": [
    "import zipfile\n",
    "import os\n",
    "import pandas as pd"
   ]
  },
  {
   "cell_type": "code",
   "execution_count": 3,
   "metadata": {},
   "outputs": [],
   "source": [
    "# Hauptordner erstellen\n",
    "os.makedirs('../data', exist_ok=True)\n",
    "# Unterordner in MLFLOW\n",
    "os.makedirs('../mlflow/data/processed', exist_ok=True)\n",
    "\n",
    "# Unterordner erstellen\n",
    "for sub_dir in ['raw', 'processed']:\n",
    "    os.makedirs(os.path.join('../data', sub_dir), exist_ok=True)"
   ]
  },
  {
   "cell_type": "code",
   "execution_count": 4,
   "metadata": {},
   "outputs": [
    {
     "name": "stdout",
     "output_type": "stream",
     "text": [
      "Warning: Your Kaggle API key is readable by other users on this system! To fix this, you can run 'chmod 600 /Users/yanoothan/.kaggle/kaggle.json'\n",
      "Dataset URL: https://www.kaggle.com/datasets/wenruliu/adult-income-dataset\n",
      "License(s): unknown\n",
      "Downloading adult-income-dataset.zip to ../data/raw\n",
      "100%|████████████████████████████████████████| 652k/652k [00:00<00:00, 1.13MB/s]\n",
      "100%|████████████████████████████████████████| 652k/652k [00:00<00:00, 1.13MB/s]\n"
     ]
    }
   ],
   "source": [
    "!kaggle datasets download -d wenruliu/adult-income-dataset -p ../data/raw"
   ]
  },
  {
   "cell_type": "code",
   "execution_count": 5,
   "metadata": {},
   "outputs": [],
   "source": [
    "# Entpacken der ZIP-Datei\n",
    "with zipfile.ZipFile(\"../data/raw/adult-income-dataset.zip\", \"r\") as zip_ref:\n",
    "    zip_ref.extractall(\"../data/raw\")\n",
    "\n",
    "# Lösche die ZIP-Datei\n",
    "os.remove('../data/raw/adult-income-dataset.zip')"
   ]
  },
  {
   "cell_type": "code",
   "execution_count": 6,
   "metadata": {},
   "outputs": [
    {
     "data": {
      "text/plain": [
       "(48842, 15)"
      ]
     },
     "execution_count": 6,
     "metadata": {},
     "output_type": "execute_result"
    }
   ],
   "source": [
    "# Lade die entpackte CSV-Datei\n",
    "df = pd.read_csv(\"../data/raw/adult.csv\")  # Passe den Dateinamen an, falls nötig\n",
    "#df.head()\n",
    "df.shape"
   ]
  }
 ],
 "metadata": {
  "kernelspec": {
   "display_name": "income-venv",
   "language": "python",
   "name": "python3"
  },
  "language_info": {
   "codemirror_mode": {
    "name": "ipython",
    "version": 3
   },
   "file_extension": ".py",
   "mimetype": "text/x-python",
   "name": "python",
   "nbconvert_exporter": "python",
   "pygments_lexer": "ipython3",
   "version": "3.12.9"
  }
 },
 "nbformat": 4,
 "nbformat_minor": 2
}
