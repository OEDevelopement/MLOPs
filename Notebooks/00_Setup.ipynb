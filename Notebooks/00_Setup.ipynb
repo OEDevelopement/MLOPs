{
 "cells": [
  {
   "cell_type": "markdown",
   "metadata": {},
   "source": [
    "# Setup\n",
    "\n",
    "- venv erstellen\n",
    "- venv aktivieren\n",
    "- pakete installieren"
   ]
  },
  {
   "cell_type": "markdown",
   "metadata": {},
   "source": [
    "python -m venv .venv \\\n",
    "source income/bin/activate\n",
    "\n",
    "python3.12 -m venv income-venv \\\n",
    "source income-venv/bin/activate"
   ]
  },
  {
   "cell_type": "markdown",
   "metadata": {},
   "source": [
    "!pip install ..."
   ]
  },
  {
   "cell_type": "code",
   "execution_count": null,
   "metadata": {},
   "outputs": [],
   "source": [
    "# Wenn Requirements.txt Datei gepflegt\n",
    "!pip install -r requirements.txt"
   ]
  },
  {
   "cell_type": "code",
   "execution_count": 5,
   "metadata": {},
   "outputs": [
    {
     "name": "stdout",
     "output_type": "stream",
     "text": [
      "Requirement already satisfied: numpy in /Users/yanoothan/Master/MLOperation/MLOPs/income-venv/lib/python3.12/site-packages (1.26.4)\n",
      "Requirement already satisfied: pandas in /Users/yanoothan/Master/MLOperation/MLOPs/income-venv/lib/python3.12/site-packages (2.1.4)\n",
      "Requirement already satisfied: scikit-learn in /Users/yanoothan/Master/MLOperation/MLOPs/income-venv/lib/python3.12/site-packages (1.6.1)\n",
      "Requirement already satisfied: mlflow in /Users/yanoothan/Master/MLOperation/MLOPs/income-venv/lib/python3.12/site-packages (2.20.3)\n",
      "Requirement already satisfied: pytest in /Users/yanoothan/Master/MLOperation/MLOPs/income-venv/lib/python3.12/site-packages (8.3.5)\n",
      "Requirement already satisfied: fastapi in /Users/yanoothan/Master/MLOperation/MLOPs/income-venv/lib/python3.12/site-packages (0.115.11)\n",
      "Requirement already satisfied: great-expectations==1.3.0 in /Users/yanoothan/Master/MLOperation/MLOPs/income-venv/lib/python3.12/site-packages (1.3.0)\n",
      "Requirement already satisfied: matplotlib in /Users/yanoothan/Master/MLOperation/MLOPs/income-venv/lib/python3.12/site-packages (3.10.1)\n",
      "Requirement already satisfied: kaggle in /Users/yanoothan/Master/MLOperation/MLOPs/income-venv/lib/python3.12/site-packages (1.6.17)\n",
      "Requirement already satisfied: altair<5.0.0,>=4.2.1 in /Users/yanoothan/Master/MLOperation/MLOPs/income-venv/lib/python3.12/site-packages (from great-expectations==1.3.0) (4.2.2)\n",
      "Requirement already satisfied: cryptography>=3.2 in /Users/yanoothan/Master/MLOperation/MLOPs/income-venv/lib/python3.12/site-packages (from great-expectations==1.3.0) (44.0.2)\n",
      "Requirement already satisfied: jinja2>=2.10 in /Users/yanoothan/Master/MLOperation/MLOPs/income-venv/lib/python3.12/site-packages (from great-expectations==1.3.0) (3.1.6)\n",
      "Requirement already satisfied: jsonschema>=2.5.1 in /Users/yanoothan/Master/MLOperation/MLOPs/income-venv/lib/python3.12/site-packages (from great-expectations==1.3.0) (4.23.0)\n",
      "Requirement already satisfied: marshmallow<4.0.0,>=3.7.1 in /Users/yanoothan/Master/MLOperation/MLOPs/income-venv/lib/python3.12/site-packages (from great-expectations==1.3.0) (3.26.1)\n",
      "Requirement already satisfied: mistune>=0.8.4 in /Users/yanoothan/Master/MLOperation/MLOPs/income-venv/lib/python3.12/site-packages (from great-expectations==1.3.0) (3.1.2)\n",
      "Requirement already satisfied: packaging in /Users/yanoothan/Master/MLOperation/MLOPs/income-venv/lib/python3.12/site-packages (from great-expectations==1.3.0) (24.2)\n",
      "Requirement already satisfied: posthog<3,>=2.1.0 in /Users/yanoothan/Master/MLOperation/MLOPs/income-venv/lib/python3.12/site-packages (from great-expectations==1.3.0) (2.5.0)\n",
      "Requirement already satisfied: pydantic>=1.10.7 in /Users/yanoothan/Master/MLOperation/MLOPs/income-venv/lib/python3.12/site-packages (from great-expectations==1.3.0) (2.10.6)\n",
      "Requirement already satisfied: pyparsing>=2.4 in /Users/yanoothan/Master/MLOperation/MLOPs/income-venv/lib/python3.12/site-packages (from great-expectations==1.3.0) (3.2.1)\n",
      "Requirement already satisfied: python-dateutil>=2.8.1 in /Users/yanoothan/Master/MLOperation/MLOPs/income-venv/lib/python3.12/site-packages (from great-expectations==1.3.0) (2.9.0.post0)\n",
      "Requirement already satisfied: requests>=2.20 in /Users/yanoothan/Master/MLOperation/MLOPs/income-venv/lib/python3.12/site-packages (from great-expectations==1.3.0) (2.32.3)\n",
      "Requirement already satisfied: ruamel.yaml>=0.16 in /Users/yanoothan/Master/MLOperation/MLOPs/income-venv/lib/python3.12/site-packages (from great-expectations==1.3.0) (0.18.10)\n",
      "Requirement already satisfied: scipy>=1.6.0 in /Users/yanoothan/Master/MLOperation/MLOPs/income-venv/lib/python3.12/site-packages (from great-expectations==1.3.0) (1.15.2)\n",
      "Requirement already satisfied: tqdm>=4.59.0 in /Users/yanoothan/Master/MLOperation/MLOPs/income-venv/lib/python3.12/site-packages (from great-expectations==1.3.0) (4.67.1)\n",
      "Requirement already satisfied: typing-extensions>=4.1.0 in /Users/yanoothan/Master/MLOperation/MLOPs/income-venv/lib/python3.12/site-packages (from great-expectations==1.3.0) (4.12.2)\n",
      "Requirement already satisfied: tzlocal>=1.2 in /Users/yanoothan/Master/MLOperation/MLOPs/income-venv/lib/python3.12/site-packages (from great-expectations==1.3.0) (5.3.1)\n",
      "Requirement already satisfied: pytz>=2020.1 in /Users/yanoothan/Master/MLOperation/MLOPs/income-venv/lib/python3.12/site-packages (from pandas) (2025.1)\n",
      "Requirement already satisfied: tzdata>=2022.1 in /Users/yanoothan/Master/MLOperation/MLOPs/income-venv/lib/python3.12/site-packages (from pandas) (2025.1)\n",
      "Requirement already satisfied: joblib>=1.2.0 in /Users/yanoothan/Master/MLOperation/MLOPs/income-venv/lib/python3.12/site-packages (from scikit-learn) (1.4.2)\n",
      "Requirement already satisfied: threadpoolctl>=3.1.0 in /Users/yanoothan/Master/MLOperation/MLOPs/income-venv/lib/python3.12/site-packages (from scikit-learn) (3.5.0)\n",
      "Requirement already satisfied: mlflow-skinny==2.20.3 in /Users/yanoothan/Master/MLOperation/MLOPs/income-venv/lib/python3.12/site-packages (from mlflow) (2.20.3)\n",
      "Requirement already satisfied: Flask<4 in /Users/yanoothan/Master/MLOperation/MLOPs/income-venv/lib/python3.12/site-packages (from mlflow) (3.1.0)\n",
      "Requirement already satisfied: alembic!=1.10.0,<2 in /Users/yanoothan/Master/MLOperation/MLOPs/income-venv/lib/python3.12/site-packages (from mlflow) (1.15.1)\n",
      "Requirement already satisfied: docker<8,>=4.0.0 in /Users/yanoothan/Master/MLOperation/MLOPs/income-venv/lib/python3.12/site-packages (from mlflow) (7.1.0)\n",
      "Requirement already satisfied: graphene<4 in /Users/yanoothan/Master/MLOperation/MLOPs/income-venv/lib/python3.12/site-packages (from mlflow) (3.4.3)\n",
      "Requirement already satisfied: gunicorn<24 in /Users/yanoothan/Master/MLOperation/MLOPs/income-venv/lib/python3.12/site-packages (from mlflow) (23.0.0)\n",
      "Requirement already satisfied: markdown<4,>=3.3 in /Users/yanoothan/Master/MLOperation/MLOPs/income-venv/lib/python3.12/site-packages (from mlflow) (3.7)\n",
      "Requirement already satisfied: pyarrow<20,>=4.0.0 in /Users/yanoothan/Master/MLOperation/MLOPs/income-venv/lib/python3.12/site-packages (from mlflow) (19.0.1)\n",
      "Requirement already satisfied: sqlalchemy<3,>=1.4.0 in /Users/yanoothan/Master/MLOperation/MLOPs/income-venv/lib/python3.12/site-packages (from mlflow) (2.0.38)\n",
      "Requirement already satisfied: cachetools<6,>=5.0.0 in /Users/yanoothan/Master/MLOperation/MLOPs/income-venv/lib/python3.12/site-packages (from mlflow-skinny==2.20.3->mlflow) (5.5.2)\n",
      "Requirement already satisfied: click<9,>=7.0 in /Users/yanoothan/Master/MLOperation/MLOPs/income-venv/lib/python3.12/site-packages (from mlflow-skinny==2.20.3->mlflow) (8.1.8)\n",
      "Requirement already satisfied: cloudpickle<4 in /Users/yanoothan/Master/MLOperation/MLOPs/income-venv/lib/python3.12/site-packages (from mlflow-skinny==2.20.3->mlflow) (3.1.1)\n",
      "Requirement already satisfied: databricks-sdk<1,>=0.20.0 in /Users/yanoothan/Master/MLOperation/MLOPs/income-venv/lib/python3.12/site-packages (from mlflow-skinny==2.20.3->mlflow) (0.44.1)\n",
      "Requirement already satisfied: gitpython<4,>=3.1.9 in /Users/yanoothan/Master/MLOperation/MLOPs/income-venv/lib/python3.12/site-packages (from mlflow-skinny==2.20.3->mlflow) (3.1.44)\n",
      "Requirement already satisfied: importlib_metadata!=4.7.0,<9,>=3.7.0 in /Users/yanoothan/Master/MLOperation/MLOPs/income-venv/lib/python3.12/site-packages (from mlflow-skinny==2.20.3->mlflow) (8.5.0)\n",
      "Requirement already satisfied: opentelemetry-api<3,>=1.9.0 in /Users/yanoothan/Master/MLOperation/MLOPs/income-venv/lib/python3.12/site-packages (from mlflow-skinny==2.20.3->mlflow) (1.30.0)\n",
      "Requirement already satisfied: opentelemetry-sdk<3,>=1.9.0 in /Users/yanoothan/Master/MLOperation/MLOPs/income-venv/lib/python3.12/site-packages (from mlflow-skinny==2.20.3->mlflow) (1.30.0)\n",
      "Requirement already satisfied: protobuf<6,>=3.12.0 in /Users/yanoothan/Master/MLOperation/MLOPs/income-venv/lib/python3.12/site-packages (from mlflow-skinny==2.20.3->mlflow) (5.29.3)\n",
      "Requirement already satisfied: pyyaml<7,>=5.1 in /Users/yanoothan/Master/MLOperation/MLOPs/income-venv/lib/python3.12/site-packages (from mlflow-skinny==2.20.3->mlflow) (6.0.2)\n",
      "Requirement already satisfied: sqlparse<1,>=0.4.0 in /Users/yanoothan/Master/MLOperation/MLOPs/income-venv/lib/python3.12/site-packages (from mlflow-skinny==2.20.3->mlflow) (0.5.3)\n",
      "Requirement already satisfied: iniconfig in /Users/yanoothan/Master/MLOperation/MLOPs/income-venv/lib/python3.12/site-packages (from pytest) (2.0.0)\n",
      "Requirement already satisfied: pluggy<2,>=1.5 in /Users/yanoothan/Master/MLOperation/MLOPs/income-venv/lib/python3.12/site-packages (from pytest) (1.5.0)\n",
      "Requirement already satisfied: starlette<0.47.0,>=0.40.0 in /Users/yanoothan/Master/MLOperation/MLOPs/income-venv/lib/python3.12/site-packages (from fastapi) (0.46.0)\n",
      "Requirement already satisfied: contourpy>=1.0.1 in /Users/yanoothan/Master/MLOperation/MLOPs/income-venv/lib/python3.12/site-packages (from matplotlib) (1.3.1)\n",
      "Requirement already satisfied: cycler>=0.10 in /Users/yanoothan/Master/MLOperation/MLOPs/income-venv/lib/python3.12/site-packages (from matplotlib) (0.12.1)\n",
      "Requirement already satisfied: fonttools>=4.22.0 in /Users/yanoothan/Master/MLOperation/MLOPs/income-venv/lib/python3.12/site-packages (from matplotlib) (4.56.0)\n",
      "Requirement already satisfied: kiwisolver>=1.3.1 in /Users/yanoothan/Master/MLOperation/MLOPs/income-venv/lib/python3.12/site-packages (from matplotlib) (1.4.8)\n",
      "Requirement already satisfied: pillow>=8 in /Users/yanoothan/Master/MLOperation/MLOPs/income-venv/lib/python3.12/site-packages (from matplotlib) (11.1.0)\n",
      "Requirement already satisfied: six>=1.10 in /Users/yanoothan/Master/MLOperation/MLOPs/income-venv/lib/python3.12/site-packages (from kaggle) (1.17.0)\n",
      "Requirement already satisfied: certifi>=2023.7.22 in /Users/yanoothan/Master/MLOperation/MLOPs/income-venv/lib/python3.12/site-packages (from kaggle) (2025.1.31)\n",
      "Requirement already satisfied: python-slugify in /Users/yanoothan/Master/MLOperation/MLOPs/income-venv/lib/python3.12/site-packages (from kaggle) (8.0.4)\n",
      "Requirement already satisfied: urllib3 in /Users/yanoothan/Master/MLOperation/MLOPs/income-venv/lib/python3.12/site-packages (from kaggle) (2.3.0)\n",
      "Requirement already satisfied: bleach in /Users/yanoothan/Master/MLOperation/MLOPs/income-venv/lib/python3.12/site-packages (from kaggle) (6.2.0)\n",
      "Requirement already satisfied: Mako in /Users/yanoothan/Master/MLOperation/MLOPs/income-venv/lib/python3.12/site-packages (from alembic!=1.10.0,<2->mlflow) (1.3.9)\n",
      "Requirement already satisfied: entrypoints in /Users/yanoothan/Master/MLOperation/MLOPs/income-venv/lib/python3.12/site-packages (from altair<5.0.0,>=4.2.1->great-expectations==1.3.0) (0.4)\n",
      "Requirement already satisfied: toolz in /Users/yanoothan/Master/MLOperation/MLOPs/income-venv/lib/python3.12/site-packages (from altair<5.0.0,>=4.2.1->great-expectations==1.3.0) (1.0.0)\n",
      "Requirement already satisfied: cffi>=1.12 in /Users/yanoothan/Master/MLOperation/MLOPs/income-venv/lib/python3.12/site-packages (from cryptography>=3.2->great-expectations==1.3.0) (1.17.1)\n",
      "Requirement already satisfied: Werkzeug>=3.1 in /Users/yanoothan/Master/MLOperation/MLOPs/income-venv/lib/python3.12/site-packages (from Flask<4->mlflow) (3.1.3)\n",
      "Requirement already satisfied: itsdangerous>=2.2 in /Users/yanoothan/Master/MLOperation/MLOPs/income-venv/lib/python3.12/site-packages (from Flask<4->mlflow) (2.2.0)\n",
      "Requirement already satisfied: blinker>=1.9 in /Users/yanoothan/Master/MLOperation/MLOPs/income-venv/lib/python3.12/site-packages (from Flask<4->mlflow) (1.9.0)\n",
      "Requirement already satisfied: graphql-core<3.3,>=3.1 in /Users/yanoothan/Master/MLOperation/MLOPs/income-venv/lib/python3.12/site-packages (from graphene<4->mlflow) (3.2.6)\n",
      "Requirement already satisfied: graphql-relay<3.3,>=3.1 in /Users/yanoothan/Master/MLOperation/MLOPs/income-venv/lib/python3.12/site-packages (from graphene<4->mlflow) (3.2.0)\n",
      "Requirement already satisfied: MarkupSafe>=2.0 in /Users/yanoothan/Master/MLOperation/MLOPs/income-venv/lib/python3.12/site-packages (from jinja2>=2.10->great-expectations==1.3.0) (3.0.2)\n",
      "Requirement already satisfied: attrs>=22.2.0 in /Users/yanoothan/Master/MLOperation/MLOPs/income-venv/lib/python3.12/site-packages (from jsonschema>=2.5.1->great-expectations==1.3.0) (25.1.0)\n",
      "Requirement already satisfied: jsonschema-specifications>=2023.03.6 in /Users/yanoothan/Master/MLOperation/MLOPs/income-venv/lib/python3.12/site-packages (from jsonschema>=2.5.1->great-expectations==1.3.0) (2024.10.1)\n",
      "Requirement already satisfied: referencing>=0.28.4 in /Users/yanoothan/Master/MLOperation/MLOPs/income-venv/lib/python3.12/site-packages (from jsonschema>=2.5.1->great-expectations==1.3.0) (0.36.2)\n",
      "Requirement already satisfied: rpds-py>=0.7.1 in /Users/yanoothan/Master/MLOperation/MLOPs/income-venv/lib/python3.12/site-packages (from jsonschema>=2.5.1->great-expectations==1.3.0) (0.23.1)\n",
      "Requirement already satisfied: monotonic>=1.5 in /Users/yanoothan/Master/MLOperation/MLOPs/income-venv/lib/python3.12/site-packages (from posthog<3,>=2.1.0->great-expectations==1.3.0) (1.6)\n",
      "Requirement already satisfied: backoff>=1.10.0 in /Users/yanoothan/Master/MLOperation/MLOPs/income-venv/lib/python3.12/site-packages (from posthog<3,>=2.1.0->great-expectations==1.3.0) (2.2.1)\n",
      "Requirement already satisfied: annotated-types>=0.6.0 in /Users/yanoothan/Master/MLOperation/MLOPs/income-venv/lib/python3.12/site-packages (from pydantic>=1.10.7->great-expectations==1.3.0) (0.7.0)\n",
      "Requirement already satisfied: pydantic-core==2.27.2 in /Users/yanoothan/Master/MLOperation/MLOPs/income-venv/lib/python3.12/site-packages (from pydantic>=1.10.7->great-expectations==1.3.0) (2.27.2)\n",
      "Requirement already satisfied: charset-normalizer<4,>=2 in /Users/yanoothan/Master/MLOperation/MLOPs/income-venv/lib/python3.12/site-packages (from requests>=2.20->great-expectations==1.3.0) (3.4.1)\n",
      "Requirement already satisfied: idna<4,>=2.5 in /Users/yanoothan/Master/MLOperation/MLOPs/income-venv/lib/python3.12/site-packages (from requests>=2.20->great-expectations==1.3.0) (3.10)\n",
      "Requirement already satisfied: ruamel.yaml.clib>=0.2.7 in /Users/yanoothan/Master/MLOperation/MLOPs/income-venv/lib/python3.12/site-packages (from ruamel.yaml>=0.16->great-expectations==1.3.0) (0.2.12)\n",
      "Requirement already satisfied: anyio<5,>=3.6.2 in /Users/yanoothan/Master/MLOperation/MLOPs/income-venv/lib/python3.12/site-packages (from starlette<0.47.0,>=0.40.0->fastapi) (4.8.0)\n",
      "Requirement already satisfied: webencodings in /Users/yanoothan/Master/MLOperation/MLOPs/income-venv/lib/python3.12/site-packages (from bleach->kaggle) (0.5.1)\n",
      "Requirement already satisfied: text-unidecode>=1.3 in /Users/yanoothan/Master/MLOperation/MLOPs/income-venv/lib/python3.12/site-packages (from python-slugify->kaggle) (1.3)\n",
      "Requirement already satisfied: sniffio>=1.1 in /Users/yanoothan/Master/MLOperation/MLOPs/income-venv/lib/python3.12/site-packages (from anyio<5,>=3.6.2->starlette<0.47.0,>=0.40.0->fastapi) (1.3.1)\n",
      "Requirement already satisfied: pycparser in /Users/yanoothan/Master/MLOperation/MLOPs/income-venv/lib/python3.12/site-packages (from cffi>=1.12->cryptography>=3.2->great-expectations==1.3.0) (2.22)\n",
      "Requirement already satisfied: google-auth~=2.0 in /Users/yanoothan/Master/MLOperation/MLOPs/income-venv/lib/python3.12/site-packages (from databricks-sdk<1,>=0.20.0->mlflow-skinny==2.20.3->mlflow) (2.38.0)\n",
      "Requirement already satisfied: gitdb<5,>=4.0.1 in /Users/yanoothan/Master/MLOperation/MLOPs/income-venv/lib/python3.12/site-packages (from gitpython<4,>=3.1.9->mlflow-skinny==2.20.3->mlflow) (4.0.12)\n",
      "Requirement already satisfied: zipp>=3.20 in /Users/yanoothan/Master/MLOperation/MLOPs/income-venv/lib/python3.12/site-packages (from importlib_metadata!=4.7.0,<9,>=3.7.0->mlflow-skinny==2.20.3->mlflow) (3.21.0)\n",
      "Requirement already satisfied: deprecated>=1.2.6 in /Users/yanoothan/Master/MLOperation/MLOPs/income-venv/lib/python3.12/site-packages (from opentelemetry-api<3,>=1.9.0->mlflow-skinny==2.20.3->mlflow) (1.2.18)\n",
      "Requirement already satisfied: opentelemetry-semantic-conventions==0.51b0 in /Users/yanoothan/Master/MLOperation/MLOPs/income-venv/lib/python3.12/site-packages (from opentelemetry-sdk<3,>=1.9.0->mlflow-skinny==2.20.3->mlflow) (0.51b0)\n",
      "Requirement already satisfied: wrapt<2,>=1.10 in /Users/yanoothan/Master/MLOperation/MLOPs/income-venv/lib/python3.12/site-packages (from deprecated>=1.2.6->opentelemetry-api<3,>=1.9.0->mlflow-skinny==2.20.3->mlflow) (1.17.2)\n",
      "Requirement already satisfied: smmap<6,>=3.0.1 in /Users/yanoothan/Master/MLOperation/MLOPs/income-venv/lib/python3.12/site-packages (from gitdb<5,>=4.0.1->gitpython<4,>=3.1.9->mlflow-skinny==2.20.3->mlflow) (5.0.2)\n",
      "Requirement already satisfied: pyasn1-modules>=0.2.1 in /Users/yanoothan/Master/MLOperation/MLOPs/income-venv/lib/python3.12/site-packages (from google-auth~=2.0->databricks-sdk<1,>=0.20.0->mlflow-skinny==2.20.3->mlflow) (0.4.1)\n",
      "Requirement already satisfied: rsa<5,>=3.1.4 in /Users/yanoothan/Master/MLOperation/MLOPs/income-venv/lib/python3.12/site-packages (from google-auth~=2.0->databricks-sdk<1,>=0.20.0->mlflow-skinny==2.20.3->mlflow) (4.9)\n",
      "Requirement already satisfied: pyasn1<0.7.0,>=0.4.6 in /Users/yanoothan/Master/MLOperation/MLOPs/income-venv/lib/python3.12/site-packages (from pyasn1-modules>=0.2.1->google-auth~=2.0->databricks-sdk<1,>=0.20.0->mlflow-skinny==2.20.3->mlflow) (0.6.1)\n",
      "\n",
      "\u001b[1m[\u001b[0m\u001b[34;49mnotice\u001b[0m\u001b[1;39;49m]\u001b[0m\u001b[39;49m A new release of pip is available: \u001b[0m\u001b[31;49m25.0\u001b[0m\u001b[39;49m -> \u001b[0m\u001b[32;49m25.0.1\u001b[0m\n",
      "\u001b[1m[\u001b[0m\u001b[34;49mnotice\u001b[0m\u001b[1;39;49m]\u001b[0m\u001b[39;49m To update, run: \u001b[0m\u001b[32;49mpip install --upgrade pip\u001b[0m\n"
     ]
    }
   ],
   "source": [
    "# Wenn requirements.txt nicht gepflegt\n",
    "!pip install numpy pandas scikit-learn mlflow pytest fastapi great-expectations==1.3.0 matplotlib kaggle"
   ]
  },
  {
   "cell_type": "code",
   "execution_count": 2,
   "metadata": {},
   "outputs": [],
   "source": [
    "import zipfile\n",
    "import os\n",
    "import pandas as pd"
   ]
  },
  {
   "cell_type": "code",
   "execution_count": 3,
   "metadata": {},
   "outputs": [],
   "source": [
    "# Hauptordner erstellen\n",
    "os.makedirs('../data', exist_ok=True)\n",
    "# Unterordner in MLFLOW\n",
    "os.makedirs('../mlflow/data/processed', exist_ok=True)\n",
    "\n",
    "# Unterordner erstellen\n",
    "for sub_dir in ['raw', 'processed']:\n",
    "    os.makedirs(os.path.join('../data', sub_dir), exist_ok=True)"
   ]
  },
  {
   "cell_type": "code",
   "execution_count": 4,
   "metadata": {},
   "outputs": [
    {
     "name": "stdout",
     "output_type": "stream",
     "text": [
      "Warning: Your Kaggle API key is readable by other users on this system! To fix this, you can run 'chmod 600 /Users/yanoothan/.kaggle/kaggle.json'\n",
      "Dataset URL: https://www.kaggle.com/datasets/wenruliu/adult-income-dataset\n",
      "License(s): unknown\n",
      "Downloading adult-income-dataset.zip to ../data/raw\n",
      "100%|████████████████████████████████████████| 652k/652k [00:00<00:00, 1.13MB/s]\n",
      "100%|████████████████████████████████████████| 652k/652k [00:00<00:00, 1.13MB/s]\n"
     ]
    }
   ],
   "source": [
    "!kaggle datasets download -d wenruliu/adult-income-dataset -p ../data/raw"
   ]
  },
  {
   "cell_type": "code",
   "execution_count": 5,
   "metadata": {},
   "outputs": [],
   "source": [
    "# Entpacken der ZIP-Datei\n",
    "with zipfile.ZipFile(\"../data/raw/adult-income-dataset.zip\", \"r\") as zip_ref:\n",
    "    zip_ref.extractall(\"../data/raw\")\n",
    "\n",
    "# Lösche die ZIP-Datei\n",
    "os.remove('../data/raw/adult-income-dataset.zip')"
   ]
  },
  {
   "cell_type": "code",
   "execution_count": 6,
   "metadata": {},
   "outputs": [
    {
     "data": {
      "text/plain": [
       "(48842, 15)"
      ]
     },
     "execution_count": 6,
     "metadata": {},
     "output_type": "execute_result"
    }
   ],
   "source": [
    "# Lade die entpackte CSV-Datei\n",
    "df = pd.read_csv(\"../data/raw/adult.csv\")  # Passe den Dateinamen an, falls nötig\n",
    "#df.head()\n",
    "df.shape"
   ]
  },
  {
   "cell_type": "code",
   "execution_count": null,
   "metadata": {},
   "outputs": [],
   "source": []
  }
 ],
 "metadata": {
  "kernelspec": {
   "display_name": "income-venv",
   "language": "python",
   "name": "python3"
  },
  "language_info": {
   "codemirror_mode": {
    "name": "ipython",
    "version": 3
   },
   "file_extension": ".py",
   "mimetype": "text/x-python",
   "name": "python",
   "nbconvert_exporter": "python",
   "pygments_lexer": "ipython3",
   "version": "3.12.9"
  }
 },
 "nbformat": 4,
 "nbformat_minor": 2
}
