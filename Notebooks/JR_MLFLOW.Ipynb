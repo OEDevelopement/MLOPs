{
 "cells": [
  {
   "cell_type": "code",
   "execution_count": 1,
   "metadata": {},
   "outputs": [
    {
     "name": "stderr",
     "output_type": "stream",
     "text": [
      "Found the config file in: C:\\Users\\Joe\\Documents\\FHSWF\\3. Semester\\MLOPS\\MLOPS_Einkommensvorhersage\\config.json\n"
     ]
    }
   ],
   "source": [
    "from azure.ai.ml import MLClient\n",
    "from azure.identity import DefaultAzureCredential\n",
    "\n",
    "ml_client = MLClient.from_config(credential=DefaultAzureCredential())"
   ]
  },
  {
   "cell_type": "code",
   "execution_count": 5,
   "metadata": {},
   "outputs": [],
   "source": [
    "mlflow_tracking_uri = ml_client.workspaces.get(ml_client.workspace_name).mlflow_tracking_uri\n",
    "\n",
    "import mlflow\n",
    "\n",
    "mlflow.set_tracking_uri(mlflow_tracking_uri)"
   ]
  },
  {
   "cell_type": "code",
   "execution_count": 7,
   "metadata": {},
   "outputs": [
    {
     "name": "stderr",
     "output_type": "stream",
     "text": [
      "2025/02/17 22:57:51 INFO mlflow.tracking.fluent: Experiment with name 'experiment_with_mlflow' does not exist. Creating a new experiment.\n"
     ]
    },
    {
     "data": {
      "text/plain": [
       "<Experiment: artifact_location='', creation_time=1739829470191, experiment_id='5c6d5660-dd3f-43c2-b1e7-77faa5e0f299', last_update_time=None, lifecycle_stage='active', name='experiment_with_mlflow', tags={}>"
      ]
     },
     "execution_count": 7,
     "metadata": {},
     "output_type": "execute_result"
    }
   ],
   "source": [
    "experiment_name = \"experiment_with_mlflow\"\n",
    "mlflow.set_experiment(experiment_name)"
   ]
  },
  {
   "cell_type": "code",
   "execution_count": 8,
   "metadata": {},
   "outputs": [
    {
     "name": "stdout",
     "output_type": "stream",
     "text": [
      "🏃 View run silver_wolf_p9zw8r96 at: https://germanywestcentral.api.azureml.ms/mlflow/v2.0/subscriptions/c59a404e-61fa-4770-8c10-4ef5561ee7c9/resourceGroups/Joel.Rasch-rg/providers/Microsoft.MachineLearningServices/workspaces/MLOPS/#/experiments/5c6d5660-dd3f-43c2-b1e7-77faa5e0f299/runs/32b35ea5-d26c-4c89-9780-207aded512c0\n",
      "🧪 View experiment at: https://germanywestcentral.api.azureml.ms/mlflow/v2.0/subscriptions/c59a404e-61fa-4770-8c10-4ef5561ee7c9/resourceGroups/Joel.Rasch-rg/providers/Microsoft.MachineLearningServices/workspaces/MLOPS/#/experiments/5c6d5660-dd3f-43c2-b1e7-77faa5e0f299\n"
     ]
    }
   ],
   "source": [
    "mlflow.start_run()\n",
    "\n",
    "\n",
    "\n",
    "mlflow.end_run()"
   ]
  }
 ],
 "metadata": {
  "kernelspec": {
   "display_name": "MLOPS_Einkommensvorhersage",
   "language": "python",
   "name": "python3"
  },
  "language_info": {
   "codemirror_mode": {
    "name": "ipython",
    "version": 3
   },
   "file_extension": ".py",
   "mimetype": "text/x-python",
   "name": "python",
   "nbconvert_exporter": "python",
   "pygments_lexer": "ipython3",
   "version": "undefined.undefined.undefined"
  }
 },
 "nbformat": 4,
 "nbformat_minor": 2
}
