{
 "cells": [
  {
   "cell_type": "code",
   "execution_count": null,
   "metadata": {},
   "outputs": [],
   "source": [
    "import requests\n",
    "from pydantic import BaseModel, Field\n",
    "\n",
    "class Person(BaseModel):\n",
    "    age: int\n",
    "    workclass: str\n",
    "    educational_num: int = Field(alias=\"educational-num\")\n",
    "    marital_status: str = Field(alias=\"marital-status\")\n",
    "    occupation: str\n",
    "    relationship: str\n",
    "    hours_per_week: int = Field(alias=\"hours-per-week\")\n",
    "    is_Male: int  # Maintaining exact case from DataFrame\n",
    "    is_White: int  # Maintaining exact case from DataFrame\n",
    "    from_USA: int  # Maintaining exact case from DataFrame\n",
    "    gained_capital: int = Field(alias=\"gained-capital\")\n",
    "    \n",
    "    class Config:\n",
    "        populate_by_name = True"
   ]
  },
  {
   "cell_type": "code",
   "execution_count": 4,
   "metadata": {},
   "outputs": [
    {
     "name": "stdout",
     "output_type": "stream",
     "text": [
      "Status Code: 200\n",
      "Prediction: {'predictions': [0]}\n"
     ]
    }
   ],
   "source": [
    "import requests\n",
    "import json\n",
    "\n",
    "# Replace with your actual MLflow serving URL\n",
    "MLFLOW_URL = \"http://localhost:8080/invocations\"\n",
    "\n",
    "# Test data\n",
    "test_data = {\n",
    "    \"age\": 28,\n",
    "    \"workclass\": \"Government\",\n",
    "    \"educational-num\": 12,\n",
    "    \"marital-status\": \"Married\",\n",
    "    \"occupation\": \"Public Safety\",\n",
    "    \"relationship\": \"Husband\",\n",
    "    \"hours-per-week\": 40,\n",
    "    \"is_Male\": 1,\n",
    "    \"is_White\": 1,\n",
    "    \"from_USA\": 1,\n",
    "    \"gained-capital\": 0\n",
    "}\n",
    "\n",
    "# Prepare the data in the format MLflow expects\n",
    "split_format = {\n",
    "    \"columns\": list(test_data.keys()),\n",
    "    \"data\": [list(test_data.values())],\n",
    "    \"index\": [0]\n",
    "}\n",
    "\n",
    "# Make the request\n",
    "headers = {\"Content-Type\": \"application/json\"}\n",
    "payload = json.dumps({\"dataframe_split\": split_format})\n",
    "\n",
    "# Send request and get prediction\n",
    "response = requests.post(MLFLOW_URL, data=payload, headers=headers)\n",
    "print(f\"Status Code: {response.status_code}\")\n",
    "print(f\"Prediction: {response.json()}\")"
   ]
  }
 ],
 "metadata": {
  "kernelspec": {
   "display_name": ".venv",
   "language": "python",
   "name": "python3"
  },
  "language_info": {
   "codemirror_mode": {
    "name": "ipython",
    "version": 3
   },
   "file_extension": ".py",
   "mimetype": "text/x-python",
   "name": "python",
   "nbconvert_exporter": "python",
   "pygments_lexer": "ipython3",
   "version": "3.11.5"
  }
 },
 "nbformat": 4,
 "nbformat_minor": 2
}
